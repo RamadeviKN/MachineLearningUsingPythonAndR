{
  "nbformat": 4,
  "nbformat_minor": 0,
  "metadata": {
    "colab": {
      "provenance": [],
      "authorship_tag": "ABX9TyOKQUutZv1+31x7WF9uWFBI",
      "include_colab_link": true
    },
    "kernelspec": {
      "name": "python3",
      "display_name": "Python 3"
    },
    "language_info": {
      "name": "python"
    }
  },
  "cells": [
    {
      "cell_type": "markdown",
      "metadata": {
        "id": "view-in-github",
        "colab_type": "text"
      },
      "source": [
        "<a href=\"https://colab.research.google.com/github/RamadeviKN/MachineLearningUsingPythonAndR/blob/main/ml_zoomcamp_hw1.ipynb\" target=\"_parent\"><img src=\"https://colab.research.google.com/assets/colab-badge.svg\" alt=\"Open In Colab\"/></a>"
      ]
    },
    {
      "cell_type": "code",
      "execution_count": 1,
      "metadata": {
        "id": "rhUVM-FnyChC"
      },
      "outputs": [],
      "source": [
        "import pandas as pd"
      ]
    },
    {
      "cell_type": "code",
      "source": [
        "pd.__version__"
      ],
      "metadata": {
        "colab": {
          "base_uri": "https://localhost:8080/",
          "height": 36
        },
        "id": "KH2vYBAXyTOA",
        "outputId": "ac2b597f-0090-4cef-b6a9-7434b81cc05e"
      },
      "execution_count": 2,
      "outputs": [
        {
          "output_type": "execute_result",
          "data": {
            "text/plain": [
              "'2.1.4'"
            ],
            "application/vnd.google.colaboratory.intrinsic+json": {
              "type": "string"
            }
          },
          "metadata": {},
          "execution_count": 2
        }
      ]
    },
    {
      "cell_type": "code",
      "source": [
        "df=pd.read_csv('laptops.csv')\n",
        "print(df)"
      ],
      "metadata": {
        "colab": {
          "base_uri": "https://localhost:8080/"
        },
        "id": "wa91Hsz1ygZG",
        "outputId": "d2f393ca-d97c-4b4d-823e-370456012c88"
      },
      "execution_count": 4,
      "outputs": [
        {
          "output_type": "stream",
          "name": "stdout",
          "text": [
            "                                                 Laptop       Status   Brand  \\\n",
            "0     ASUS ExpertBook B1 B1502CBA-EJ0436X Intel Core...          New    Asus   \n",
            "1     Alurin Go Start Intel Celeron N4020/8GB/256GB ...          New  Alurin   \n",
            "2     ASUS ExpertBook B1 B1502CBA-EJ0424X Intel Core...          New    Asus   \n",
            "3     MSI Katana GF66 12UC-082XES Intel Core i7-1270...          New     MSI   \n",
            "4     HP 15S-FQ5085NS Intel Core i5-1235U/16GB/512GB...          New      HP   \n",
            "...                                                 ...          ...     ...   \n",
            "2155  Razer Blade 17 FHD 360Hz Intel Core i7-11800H/...  Refurbished   Razer   \n",
            "2156  Razer Blade 17 FHD 360Hz Intel Core i7-11800H/...  Refurbished   Razer   \n",
            "2157  Razer Blade 17 FHD 360Hz Intel Core i7-11800H/...  Refurbished   Razer   \n",
            "2158  Razer Book 13 Intel Evo Core i7-1165G7/16GB/1T...  Refurbished   Razer   \n",
            "2159  Razer Book FHD+ Intel Evo Core i7-1165G7/16GB/...  Refurbished   Razer   \n",
            "\n",
            "           Model                CPU  RAM  Storage Storage type       GPU  \\\n",
            "0     ExpertBook      Intel Core i5    8      512          SSD       NaN   \n",
            "1             Go      Intel Celeron    8      256          SSD       NaN   \n",
            "2     ExpertBook      Intel Core i3    8      256          SSD       NaN   \n",
            "3         Katana      Intel Core i7   16     1000          SSD  RTX 3050   \n",
            "4            15S      Intel Core i5   16      512          SSD       NaN   \n",
            "...          ...                ...  ...      ...          ...       ...   \n",
            "2155       Blade      Intel Core i7   16     1000          SSD  RTX 3060   \n",
            "2156       Blade      Intel Core i7   16     1000          SSD  RTX 3070   \n",
            "2157       Blade      Intel Core i7   32     1000          SSD  RTX 3080   \n",
            "2158        Book  Intel Evo Core i7   16     1000          SSD       NaN   \n",
            "2159        Book  Intel Evo Core i7   16      256          SSD       NaN   \n",
            "\n",
            "      Screen Touch  Final Price  \n",
            "0       15.6    No      1009.00  \n",
            "1       15.6    No       299.00  \n",
            "2       15.6    No       789.00  \n",
            "3       15.6    No      1199.00  \n",
            "4       15.6    No       669.01  \n",
            "...      ...   ...          ...  \n",
            "2155    17.3    No      2699.99  \n",
            "2156    17.3    No      2899.99  \n",
            "2157    17.3    No      3399.99  \n",
            "2158    13.4   Yes      1899.99  \n",
            "2159    13.4   Yes      1699.99  \n",
            "\n",
            "[2160 rows x 12 columns]\n"
          ]
        }
      ]
    },
    {
      "cell_type": "code",
      "source": [
        "df_count = df.count()[0]\n",
        "print(df_count)"
      ],
      "metadata": {
        "colab": {
          "base_uri": "https://localhost:8080/"
        },
        "id": "mC1RCf-cy124",
        "outputId": "34996e6d-a825-4e57-cebd-57254e09362e"
      },
      "execution_count": 5,
      "outputs": [
        {
          "output_type": "stream",
          "name": "stdout",
          "text": [
            "2160\n"
          ]
        },
        {
          "output_type": "stream",
          "name": "stderr",
          "text": [
            "<ipython-input-5-bb574f264578>:1: FutureWarning: Series.__getitem__ treating keys as positions is deprecated. In a future version, integer keys will always be treated as labels (consistent with DataFrame behavior). To access a value by position, use `ser.iloc[pos]`\n",
            "  df_count = df.count()[0]\n"
          ]
        }
      ]
    },
    {
      "cell_type": "code",
      "source": [
        "df.Brand.nunique()"
      ],
      "metadata": {
        "colab": {
          "base_uri": "https://localhost:8080/"
        },
        "id": "CdCVMw03zzoq",
        "outputId": "ef4736ea-59e3-48db-d856-e0fb1679eefb"
      },
      "execution_count": 6,
      "outputs": [
        {
          "output_type": "execute_result",
          "data": {
            "text/plain": [
              "27"
            ]
          },
          "metadata": {},
          "execution_count": 6
        }
      ]
    },
    {
      "cell_type": "code",
      "source": [
        "df.nunique()[2]"
      ],
      "metadata": {
        "colab": {
          "base_uri": "https://localhost:8080/"
        },
        "id": "Ca-2bM4G3yee",
        "outputId": "f7c0a1f0-ecae-44ea-ad07-1fb1d82b5d5b"
      },
      "execution_count": 7,
      "outputs": [
        {
          "output_type": "stream",
          "name": "stderr",
          "text": [
            "<ipython-input-7-9d85f5dc7397>:1: FutureWarning: Series.__getitem__ treating keys as positions is deprecated. In a future version, integer keys will always be treated as labels (consistent with DataFrame behavior). To access a value by position, use `ser.iloc[pos]`\n",
            "  df.nunique()[2]\n"
          ]
        },
        {
          "output_type": "execute_result",
          "data": {
            "text/plain": [
              "27"
            ]
          },
          "metadata": {},
          "execution_count": 7
        }
      ]
    },
    {
      "cell_type": "code",
      "source": [
        "df.isnull().any().sum()"
      ],
      "metadata": {
        "colab": {
          "base_uri": "https://localhost:8080/"
        },
        "id": "6AVqnfpy4e9b",
        "outputId": "354a12fb-5a7d-4213-f412-4321a56550aa"
      },
      "execution_count": 8,
      "outputs": [
        {
          "output_type": "execute_result",
          "data": {
            "text/plain": [
              "3"
            ]
          },
          "metadata": {},
          "execution_count": 8
        }
      ]
    },
    {
      "cell_type": "code",
      "source": [
        "max_price = df[df['Brand'] == 'Dell']['Final Price'].max()\n",
        "print(max_price)"
      ],
      "metadata": {
        "colab": {
          "base_uri": "https://localhost:8080/"
        },
        "id": "EqFFNijWCRXg",
        "outputId": "061538ed-37a0-4591-fef2-2d43036dae47"
      },
      "execution_count": 9,
      "outputs": [
        {
          "output_type": "stream",
          "name": "stdout",
          "text": [
            "3936.0\n"
          ]
        }
      ]
    },
    {
      "cell_type": "code",
      "source": [
        "m1=df['Screen'].median()\n",
        "freq_value=df['Screen'].mode()\n",
        "df['Screen'] = df['Screen'].fillna(freq_value)\n",
        "m2=df['Screen'].median()\n",
        "if m1==m2:\n",
        "    print('Not Changed')\n",
        "else:\n",
        "    print('Changed')"
      ],
      "metadata": {
        "colab": {
          "base_uri": "https://localhost:8080/"
        },
        "id": "LAD4jhDBCywk",
        "outputId": "de6a7ecd-888b-477e-eda5-ef2175c68c5b"
      },
      "execution_count": 10,
      "outputs": [
        {
          "output_type": "stream",
          "name": "stdout",
          "text": [
            "Not Changed\n"
          ]
        }
      ]
    },
    {
      "cell_type": "code",
      "source": [
        "innjoo_brand_df = df[df['Brand'] == 'Innjoo'] [['RAM','Storage','Screen']]\n",
        "print(innjoo_brand_df)\n",
        "import numpy as np\n",
        "X= np.array(innjoo_brand_df)\n",
        "print(X)"
      ],
      "metadata": {
        "colab": {
          "base_uri": "https://localhost:8080/"
        },
        "id": "YMoqFPwGE2VD",
        "outputId": "91cd6ed0-6958-41ab-accb-abf03f959cc6"
      },
      "execution_count": 11,
      "outputs": [
        {
          "output_type": "stream",
          "name": "stdout",
          "text": [
            "      RAM  Storage  Screen\n",
            "1478    8      256    15.6\n",
            "1479    8      512    15.6\n",
            "1480    4       64    14.1\n",
            "1481    6       64    14.1\n",
            "1482    6      128    14.1\n",
            "1483    6      128    14.1\n",
            "[[  8.  256.   15.6]\n",
            " [  8.  512.   15.6]\n",
            " [  4.   64.   14.1]\n",
            " [  6.   64.   14.1]\n",
            " [  6.  128.   14.1]\n",
            " [  6.  128.   14.1]]\n"
          ]
        }
      ]
    },
    {
      "cell_type": "code",
      "source": [
        "XTX=np.array(X.T)\n",
        "print(XTX)"
      ],
      "metadata": {
        "colab": {
          "base_uri": "https://localhost:8080/"
        },
        "id": "D-wNmxK9IHyx",
        "outputId": "9e6a8b3d-9314-4e92-fd4c-535401e17e60"
      },
      "execution_count": 15,
      "outputs": [
        {
          "output_type": "stream",
          "name": "stdout",
          "text": [
            "[[  8.    8.    4.    6.    6.    6. ]\n",
            " [256.  512.   64.   64.  128.  128. ]\n",
            " [ 15.6  15.6  14.1  14.1  14.1  14.1]]\n"
          ]
        }
      ]
    },
    {
      "cell_type": "code",
      "source": [
        "product=X.dot(XTX)\n",
        "print(product)"
      ],
      "metadata": {
        "colab": {
          "base_uri": "https://localhost:8080/"
        },
        "id": "Vhgi1pKhLwrB",
        "outputId": "08540c0a-211b-48e1-8038-f65a7d908d4c"
      },
      "execution_count": 16,
      "outputs": [
        {
          "output_type": "stream",
          "name": "stdout",
          "text": [
            "[[ 65843.36 131379.36  16635.96  16651.96  33035.96  33035.96]\n",
            " [131379.36 262451.36  33019.96  33035.96  65803.96  65803.96]\n",
            " [ 16635.96  33019.96   4310.81   4318.81   8414.81   8414.81]\n",
            " [ 16651.96  33035.96   4318.81   4330.81   8426.81   8426.81]\n",
            " [ 33035.96  65803.96   8414.81   8426.81  16618.81  16618.81]\n",
            " [ 33035.96  65803.96   8414.81   8426.81  16618.81  16618.81]]\n"
          ]
        }
      ]
    },
    {
      "cell_type": "code",
      "source": [
        "XTX_inv = np.linalg.pinv(XTX)\n",
        "print(XTX_inv)"
      ],
      "metadata": {
        "colab": {
          "base_uri": "https://localhost:8080/"
        },
        "id": "-TGkpTkcIi1F",
        "outputId": "396c4dcb-e61e-43cb-f000-3576e7dc61e3"
      },
      "execution_count": 17,
      "outputs": [
        {
          "output_type": "stream",
          "name": "stdout",
          "text": [
            "[[ 0.26298349 -0.00110155 -0.08772226]\n",
            " [-0.12560233  0.00295059  0.0269791 ]\n",
            " [-0.40646389  0.00125892  0.17140891]\n",
            " [ 0.14958687 -0.00177691 -0.0302108 ]\n",
            " [ 0.05244042 -0.00076387 -0.00153546]\n",
            " [ 0.05244042 -0.00076387 -0.00153546]]\n"
          ]
        }
      ]
    },
    {
      "cell_type": "code",
      "source": [],
      "metadata": {
        "id": "du5bHRxYLpAv"
      },
      "execution_count": null,
      "outputs": []
    },
    {
      "cell_type": "code",
      "source": [
        "y=np.array([1100, 1300, 800, 900, 1000, 1100])\n",
        "print(y)"
      ],
      "metadata": {
        "colab": {
          "base_uri": "https://localhost:8080/"
        },
        "id": "Y9P0mR2bLDX1",
        "outputId": "af150f92-ce61-4046-dae8-81c588f9389c"
      },
      "execution_count": 23,
      "outputs": [
        {
          "output_type": "stream",
          "name": "stdout",
          "text": [
            "[1100 1300  800  900 1000 1100]\n"
          ]
        }
      ]
    },
    {
      "cell_type": "code",
      "source": [
        "prod_value=XTX_inv.dot(X.T)\n",
        "print(prod_value)\n",
        "w=prod_value.dot(y)\n",
        "print(w)"
      ],
      "metadata": {
        "colab": {
          "base_uri": "https://localhost:8080/"
        },
        "id": "aiGsnd-VLTZy",
        "outputId": "21a3e26a-b626-4d1e-f2d5-6ad9e4db6d09"
      },
      "execution_count": 24,
      "outputs": [
        {
          "output_type": "stream",
          "name": "stdout",
          "text": [
            "[[ 0.45340318  0.17140569 -0.25544928  0.2705177   0.20001833  0.20001833]\n",
            " [ 0.17140569  0.92675609  0.06683356 -0.1843711   0.0044665   0.0044665 ]\n",
            " [-0.25544928  0.06683356  0.87158079  0.05865301  0.13922372  0.13922372]\n",
            " [ 0.2705177  -0.1843711   0.05865301  0.35782675  0.24410455  0.24410455]\n",
            " [ 0.20001833  0.0044665   0.13922372  0.24410455  0.1952166   0.1952166 ]\n",
            " [ 0.20001833  0.0044665   0.13922372  0.24410455  0.1952166   0.1952166 ]]\n",
            "[1180.71589468 1290.24170248  848.31155551  939.47308763  966.85453958\n",
            "  966.85453958]\n"
          ]
        }
      ]
    },
    {
      "cell_type": "code",
      "source": [
        "print(np.sum(w))"
      ],
      "metadata": {
        "colab": {
          "base_uri": "https://localhost:8080/"
        },
        "id": "mFjPpO7kYBGP",
        "outputId": "bebde601-acb4-4249-90c9-b88e3cb48713"
      },
      "execution_count": 26,
      "outputs": [
        {
          "output_type": "stream",
          "name": "stdout",
          "text": [
            "6192.45131945146\n"
          ]
        }
      ]
    }
  ]
}