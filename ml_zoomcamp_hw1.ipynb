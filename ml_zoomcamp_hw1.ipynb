{
  "nbformat": 4,
  "nbformat_minor": 0,
  "metadata": {
    "colab": {
      "provenance": [],
      "authorship_tag": "ABX9TyPcNmj0dRWUCc7Tl5zSrWX5",
      "include_colab_link": true
    },
    "kernelspec": {
      "name": "python3",
      "display_name": "Python 3"
    },
    "language_info": {
      "name": "python"
    }
  },
  "cells": [
    {
      "cell_type": "markdown",
      "metadata": {
        "id": "view-in-github",
        "colab_type": "text"
      },
      "source": [
        "<a href=\"https://colab.research.google.com/github/RamadeviKN/MachineLearningUsingPythonAndR/blob/main/ml_zoomcamp_hw1.ipynb\" target=\"_parent\"><img src=\"https://colab.research.google.com/assets/colab-badge.svg\" alt=\"Open In Colab\"/></a>"
      ]
    },
    {
      "cell_type": "markdown",
      "source": [
        "Import Statement"
      ],
      "metadata": {
        "id": "Lq7I7mRQYpqd"
      }
    },
    {
      "cell_type": "code",
      "source": [
        "import pandas as pd"
      ],
      "metadata": {
        "id": "gdxKXCPpYsWa"
      },
      "execution_count": 27,
      "outputs": []
    },
    {
      "cell_type": "markdown",
      "source": [
        "Pandas Version"
      ],
      "metadata": {
        "id": "OQO1RrvtYvRM"
      }
    },
    {
      "cell_type": "code",
      "source": [
        "pd.__version__"
      ],
      "metadata": {
        "colab": {
          "base_uri": "https://localhost:8080/",
          "height": 36
        },
        "id": "KH2vYBAXyTOA",
        "outputId": "ac2b597f-0090-4cef-b6a9-7434b81cc05e"
      },
      "execution_count": 2,
      "outputs": [
        {
          "output_type": "execute_result",
          "data": {
            "text/plain": [
              "'2.1.4'"
            ],
            "application/vnd.google.colaboratory.intrinsic+json": {
              "type": "string"
            }
          },
          "metadata": {},
          "execution_count": 2
        }
      ]
    },
    {
      "cell_type": "markdown",
      "source": [
        "Reading CSV dataset"
      ],
      "metadata": {
        "id": "SrEWFiB6Yyku"
      }
    },
    {
      "cell_type": "code",
      "source": [
        "df=pd.read_csv('laptops.csv')\n",
        "print(df)"
      ],
      "metadata": {
        "colab": {
          "base_uri": "https://localhost:8080/"
        },
        "id": "wa91Hsz1ygZG",
        "outputId": "d2f393ca-d97c-4b4d-823e-370456012c88"
      },
      "execution_count": 4,
      "outputs": [
        {
          "output_type": "stream",
          "name": "stdout",
          "text": [
            "                                                 Laptop       Status   Brand  \\\n",
            "0     ASUS ExpertBook B1 B1502CBA-EJ0436X Intel Core...          New    Asus   \n",
            "1     Alurin Go Start Intel Celeron N4020/8GB/256GB ...          New  Alurin   \n",
            "2     ASUS ExpertBook B1 B1502CBA-EJ0424X Intel Core...          New    Asus   \n",
            "3     MSI Katana GF66 12UC-082XES Intel Core i7-1270...          New     MSI   \n",
            "4     HP 15S-FQ5085NS Intel Core i5-1235U/16GB/512GB...          New      HP   \n",
            "...                                                 ...          ...     ...   \n",
            "2155  Razer Blade 17 FHD 360Hz Intel Core i7-11800H/...  Refurbished   Razer   \n",
            "2156  Razer Blade 17 FHD 360Hz Intel Core i7-11800H/...  Refurbished   Razer   \n",
            "2157  Razer Blade 17 FHD 360Hz Intel Core i7-11800H/...  Refurbished   Razer   \n",
            "2158  Razer Book 13 Intel Evo Core i7-1165G7/16GB/1T...  Refurbished   Razer   \n",
            "2159  Razer Book FHD+ Intel Evo Core i7-1165G7/16GB/...  Refurbished   Razer   \n",
            "\n",
            "           Model                CPU  RAM  Storage Storage type       GPU  \\\n",
            "0     ExpertBook      Intel Core i5    8      512          SSD       NaN   \n",
            "1             Go      Intel Celeron    8      256          SSD       NaN   \n",
            "2     ExpertBook      Intel Core i3    8      256          SSD       NaN   \n",
            "3         Katana      Intel Core i7   16     1000          SSD  RTX 3050   \n",
            "4            15S      Intel Core i5   16      512          SSD       NaN   \n",
            "...          ...                ...  ...      ...          ...       ...   \n",
            "2155       Blade      Intel Core i7   16     1000          SSD  RTX 3060   \n",
            "2156       Blade      Intel Core i7   16     1000          SSD  RTX 3070   \n",
            "2157       Blade      Intel Core i7   32     1000          SSD  RTX 3080   \n",
            "2158        Book  Intel Evo Core i7   16     1000          SSD       NaN   \n",
            "2159        Book  Intel Evo Core i7   16      256          SSD       NaN   \n",
            "\n",
            "      Screen Touch  Final Price  \n",
            "0       15.6    No      1009.00  \n",
            "1       15.6    No       299.00  \n",
            "2       15.6    No       789.00  \n",
            "3       15.6    No      1199.00  \n",
            "4       15.6    No       669.01  \n",
            "...      ...   ...          ...  \n",
            "2155    17.3    No      2699.99  \n",
            "2156    17.3    No      2899.99  \n",
            "2157    17.3    No      3399.99  \n",
            "2158    13.4   Yes      1899.99  \n",
            "2159    13.4   Yes      1699.99  \n",
            "\n",
            "[2160 rows x 12 columns]\n"
          ]
        }
      ]
    },
    {
      "cell_type": "markdown",
      "source": [
        "Record count - How many records are in the dataset?"
      ],
      "metadata": {
        "id": "gEs4VBsSY69x"
      }
    },
    {
      "cell_type": "code",
      "source": [
        "df_count = df.count()[0]\n",
        "print(df_count)"
      ],
      "metadata": {
        "colab": {
          "base_uri": "https://localhost:8080/"
        },
        "id": "mC1RCf-cy124",
        "outputId": "34996e6d-a825-4e57-cebd-57254e09362e"
      },
      "execution_count": 5,
      "outputs": [
        {
          "output_type": "stream",
          "name": "stdout",
          "text": [
            "2160\n"
          ]
        },
        {
          "output_type": "stream",
          "name": "stderr",
          "text": [
            "<ipython-input-5-bb574f264578>:1: FutureWarning: Series.__getitem__ treating keys as positions is deprecated. In a future version, integer keys will always be treated as labels (consistent with DataFrame behavior). To access a value by position, use `ser.iloc[pos]`\n",
            "  df_count = df.count()[0]\n"
          ]
        }
      ]
    },
    {
      "cell_type": "markdown",
      "source": [
        "Laptop Brands - How many laptop brands are presented in the dataset?"
      ],
      "metadata": {
        "id": "2SLoeiHFZBU5"
      }
    },
    {
      "cell_type": "code",
      "source": [
        "df.Brand.nunique()"
      ],
      "metadata": {
        "colab": {
          "base_uri": "https://localhost:8080/"
        },
        "id": "CdCVMw03zzoq",
        "outputId": "ef4736ea-59e3-48db-d856-e0fb1679eefb"
      },
      "execution_count": 6,
      "outputs": [
        {
          "output_type": "execute_result",
          "data": {
            "text/plain": [
              "27"
            ]
          },
          "metadata": {},
          "execution_count": 6
        }
      ]
    },
    {
      "cell_type": "code",
      "source": [
        "df.nunique()[2]"
      ],
      "metadata": {
        "colab": {
          "base_uri": "https://localhost:8080/"
        },
        "id": "Ca-2bM4G3yee",
        "outputId": "f7c0a1f0-ecae-44ea-ad07-1fb1d82b5d5b"
      },
      "execution_count": 7,
      "outputs": [
        {
          "output_type": "stream",
          "name": "stderr",
          "text": [
            "<ipython-input-7-9d85f5dc7397>:1: FutureWarning: Series.__getitem__ treating keys as positions is deprecated. In a future version, integer keys will always be treated as labels (consistent with DataFrame behavior). To access a value by position, use `ser.iloc[pos]`\n",
            "  df.nunique()[2]\n"
          ]
        },
        {
          "output_type": "execute_result",
          "data": {
            "text/plain": [
              "27"
            ]
          },
          "metadata": {},
          "execution_count": 7
        }
      ]
    },
    {
      "cell_type": "markdown",
      "source": [
        "Missing Values - How many columns in the dataset have missing values?"
      ],
      "metadata": {
        "id": "RR128lgqZJU3"
      }
    },
    {
      "cell_type": "code",
      "source": [
        "df.isnull().any().sum()"
      ],
      "metadata": {
        "colab": {
          "base_uri": "https://localhost:8080/"
        },
        "id": "6AVqnfpy4e9b",
        "outputId": "354a12fb-5a7d-4213-f412-4321a56550aa"
      },
      "execution_count": 8,
      "outputs": [
        {
          "output_type": "execute_result",
          "data": {
            "text/plain": [
              "3"
            ]
          },
          "metadata": {},
          "execution_count": 8
        }
      ]
    },
    {
      "cell_type": "markdown",
      "source": [
        "Maximum Final Price value - What's the maximum final price of Dell notebooks in the dataset?"
      ],
      "metadata": {
        "id": "eO1cxu0tZQi_"
      }
    },
    {
      "cell_type": "code",
      "source": [
        "max_dell_price = df[df['Brand'] == 'Dell']['Final Price'].max()\n",
        "print(max_dell_price)"
      ],
      "metadata": {
        "colab": {
          "base_uri": "https://localhost:8080/"
        },
        "id": "EqFFNijWCRXg",
        "outputId": "e85bcc9b-8ba2-4651-91fa-e3619e84645f"
      },
      "execution_count": 28,
      "outputs": [
        {
          "output_type": "stream",
          "name": "stdout",
          "text": [
            "3936.0\n"
          ]
        }
      ]
    },
    {
      "cell_type": "markdown",
      "source": [
        "Median value of Screen"
      ],
      "metadata": {
        "id": "rFxzu1k7Zcgo"
      }
    },
    {
      "cell_type": "code",
      "source": [
        "m1=df['Screen'].median()\n",
        "freq_value=df['Screen'].mode()\n",
        "df['Screen'] = df['Screen'].fillna(freq_value)\n",
        "m2=df['Screen'].median()\n",
        "if m1==m2:\n",
        "    print('Not Changed')\n",
        "else:\n",
        "    print('Changed')"
      ],
      "metadata": {
        "colab": {
          "base_uri": "https://localhost:8080/"
        },
        "id": "LAD4jhDBCywk",
        "outputId": "de6a7ecd-888b-477e-eda5-ef2175c68c5b"
      },
      "execution_count": 10,
      "outputs": [
        {
          "output_type": "stream",
          "name": "stdout",
          "text": [
            "Not Changed\n"
          ]
        }
      ]
    },
    {
      "cell_type": "markdown",
      "source": [
        "Sum of weights"
      ],
      "metadata": {
        "id": "bU-M2LuLZi3n"
      }
    },
    {
      "cell_type": "code",
      "source": [
        "innjoo_brand_df = df[df['Brand'] == 'Innjoo'] [['RAM','Storage','Screen']]\n",
        "print(innjoo_brand_df)\n",
        "import numpy as np\n",
        "X= innjoo_brand_df.to_numpy()\n",
        "print(X)"
      ],
      "metadata": {
        "colab": {
          "base_uri": "https://localhost:8080/"
        },
        "id": "YMoqFPwGE2VD",
        "outputId": "2f109ac5-e363-45b3-b7e9-b13ad0ccc461"
      },
      "execution_count": 54,
      "outputs": [
        {
          "output_type": "stream",
          "name": "stdout",
          "text": [
            "      RAM  Storage  Screen\n",
            "1478    8      256    15.6\n",
            "1479    8      512    15.6\n",
            "1480    4       64    14.1\n",
            "1481    6       64    14.1\n",
            "1482    6      128    14.1\n",
            "1483    6      128    14.1\n",
            "[[  8.  256.   15.6]\n",
            " [  8.  512.   15.6]\n",
            " [  4.   64.   14.1]\n",
            " [  6.   64.   14.1]\n",
            " [  6.  128.   14.1]\n",
            " [  6.  128.   14.1]]\n"
          ]
        }
      ]
    },
    {
      "cell_type": "code",
      "source": [
        "XTX = np.dot(X.T, X)\n",
        "print(XTX)"
      ],
      "metadata": {
        "colab": {
          "base_uri": "https://localhost:8080/"
        },
        "id": "Vhgi1pKhLwrB",
        "outputId": "f288bc27-951d-4bc1-80f4-7a722b37bc48"
      },
      "execution_count": 56,
      "outputs": [
        {
          "output_type": "stream",
          "name": "stdout",
          "text": [
            "[[2.52000e+02 8.32000e+03 5.59800e+02]\n",
            " [8.32000e+03 3.68640e+05 1.73952e+04]\n",
            " [5.59800e+02 1.73952e+04 1.28196e+03]]\n"
          ]
        }
      ]
    },
    {
      "cell_type": "code",
      "source": [
        "XTX_inv = np.linalg.inv(XTX)\n",
        "print(XTX_inv)"
      ],
      "metadata": {
        "colab": {
          "base_uri": "https://localhost:8080/"
        },
        "id": "-TGkpTkcIi1F",
        "outputId": "bf0418fd-7ebe-459f-f8f2-361da4023a2e"
      },
      "execution_count": 58,
      "outputs": [
        {
          "output_type": "stream",
          "name": "stdout",
          "text": [
            "[[ 2.78025381e-01 -1.51791334e-03 -1.00809855e-01]\n",
            " [-1.51791334e-03  1.58286725e-05  4.48052175e-04]\n",
            " [-1.00809855e-01  4.48052175e-04  3.87214888e-02]]\n"
          ]
        }
      ]
    },
    {
      "cell_type": "code",
      "source": [],
      "metadata": {
        "id": "du5bHRxYLpAv"
      },
      "execution_count": null,
      "outputs": []
    },
    {
      "cell_type": "code",
      "source": [
        "y=np.array([1100, 1300, 800, 900, 1000, 1100])\n",
        "print(y)"
      ],
      "metadata": {
        "colab": {
          "base_uri": "https://localhost:8080/"
        },
        "id": "Y9P0mR2bLDX1",
        "outputId": "3b283390-a6b8-46d3-da94-82979196fecf"
      },
      "execution_count": 59,
      "outputs": [
        {
          "output_type": "stream",
          "name": "stdout",
          "text": [
            "[1100 1300  800  900 1000 1100]\n"
          ]
        }
      ]
    },
    {
      "cell_type": "code",
      "source": [
        "w = np.dot(np.dot(XTX_inv, X.T), y)\n",
        "print(w)"
      ],
      "metadata": {
        "colab": {
          "base_uri": "https://localhost:8080/"
        },
        "id": "aiGsnd-VLTZy",
        "outputId": "ad0a9c05-3ca5-405c-d475-346c401a1552"
      },
      "execution_count": 60,
      "outputs": [
        {
          "output_type": "stream",
          "name": "stdout",
          "text": [
            "[45.58076606  0.42783519 45.29127938]\n"
          ]
        }
      ]
    },
    {
      "cell_type": "code",
      "source": [
        "print(np.sum(w))"
      ],
      "metadata": {
        "colab": {
          "base_uri": "https://localhost:8080/"
        },
        "id": "mFjPpO7kYBGP",
        "outputId": "96189a0f-b934-42b1-c8d5-d048d92b3e3c"
      },
      "execution_count": 61,
      "outputs": [
        {
          "output_type": "stream",
          "name": "stdout",
          "text": [
            "91.2998806299555\n"
          ]
        }
      ]
    },
    {
      "cell_type": "markdown",
      "source": [],
      "metadata": {
        "id": "6qBbAFRuYnWG"
      }
    }
  ]
}